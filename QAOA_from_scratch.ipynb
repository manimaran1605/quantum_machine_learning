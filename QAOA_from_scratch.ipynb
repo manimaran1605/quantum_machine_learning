{
 "cells": [
  {
   "cell_type": "code",
   "execution_count": 3,
   "id": "c1ab2533-869d-4bc2-96b3-31e7a3ba7cb2",
   "metadata": {},
   "outputs": [],
   "source": [
    "from docplex.mp.model import Model\n",
    "import numpy as np\n",
    "import random\n",
    "import itertools\n",
    "import numpy as np\n",
    "import itertools\n",
    "import random\n",
    "import networkx as nx\n",
    "from concurrent.futures import ThreadPoolExecutor\n",
    "from qiskit.quantum_info import SparsePauliOp\n",
    "from qiskit.circuit.library import QAOAAnsatz\n",
    "from qiskit import QuantumCircuit,  transpile, ClassicalRegister\n",
    "from qiskit.circuit import ParameterVector, Parameter\n",
    "from qiskit.circuit.library import PauliEvolutionGate\n",
    "from qiskit.primitives import BackendSamplerV2, Sampler\n",
    "from qiskit_aer import AerSimulator\n",
    "from scipy.optimize import minimize\n",
    "import copy\n",
    "import matplotlib.pyplot as plt\n",
    "import rustworkx as rx\n",
    "from rustworkx.visualization import mpl_draw as draw_graph"
   ]
  },
  {
   "cell_type": "code",
   "execution_count": 15,
   "id": "0f8ccf82-3978-489a-bbf1-65ab2be073b1",
   "metadata": {},
   "outputs": [],
   "source": [
    "n = 5\n",
    "\n",
    "graph = rx.PyGraph()\n",
    "graph.add_nodes_from(np.arange(0, n, 1))\n",
    "edge_list = [(0, 1, 1.0), (0, 2, 1.0), (0, 4, 1.0), (1, 2, 1.0), (2, 3, 1.0), (3, 4, 1.0)]\n",
    "graph.add_edges_from(edge_list)\n",
    "draw_graph(graph, node_size=600, with_labels=True)"
   ]
  },
  {
   "cell_type": "code",
   "execution_count": 7,
   "id": "36dbdc0f-ea1c-4c01-bd66-02d3459ebf79",
   "metadata": {},
   "outputs": [],
   "source": [
    "def graph_to_qubo(graph):\n",
    "    nodes = graph.node_indexes()  # Get node indices\n",
    "    num_nodes = len(nodes)\n",
    "\n",
    "    # Create a mapping from node labels to indices\n",
    "    node_index = {node: i for i, node in enumerate(nodes)}\n",
    "\n",
    "    # Initialize QUBO matrix\n",
    "    Q = np.zeros((num_nodes, num_nodes))\n",
    "\n",
    "    # Assign edge weights (-1) and ensure symmetry\n",
    "    for u, v in graph.edge_list():\n",
    "        i, j = node_index[u], node_index[v]  # Convert node labels to indices\n",
    "        Q[i, j] = -1  # Interaction term\n",
    "        Q[j, i] = -1  # Symmetric\n",
    "\n",
    "    return Q\n",
    "Q = graph_to_qubo(graph)"
   ]
  },
  {
   "cell_type": "code",
   "execution_count": 49,
   "id": "884ecca0-c32a-4737-a163-ea6e932a620d",
   "metadata": {},
   "outputs": [
    {
     "name": "stdout",
     "output_type": "stream",
     "text": [
      "-12.0 [1 1 1 1 1]\n"
     ]
    }
   ],
   "source": [
    "min_ = 1000\n",
    "for i in range(2**n):\n",
    "    x = [ii for ii in np.binary_repr(i,n)]\n",
    "    # print(x)\n",
    "    x = np.array([int(ii) for ii in x])\n",
    "    if x.T @ Q @ x < min_:\n",
    "        min_ = min(x.T @ Q @ x, min_)\n",
    "        x_opt = x\n",
    "print(min_,x_opt)"
   ]
  },
  {
   "cell_type": "code",
   "execution_count": 13,
   "id": "3a2f0f18-8163-4c35-9a3e-392bdeeb0a3f",
   "metadata": {},
   "outputs": [
    {
     "name": "stdout",
     "output_type": "stream",
     "text": [
      "Cost Function Hamiltonian: SparsePauliOp(['IIIZZ', 'IIZIZ', 'ZIIIZ', 'IIZZI', 'IZZII', 'ZZIII'],\n",
      "              coeffs=[1.+0.j, 1.+0.j, 1.+0.j, 1.+0.j, 1.+0.j, 1.+0.j])\n"
     ]
    }
   ],
   "source": [
    "from qiskit.quantum_info import SparsePauliOp\n",
    "def build_max_cut_paulis(graph: rx.PyGraph) -> list[tuple[str, float]]:\n",
    "    \"\"\"Convert the graph to Pauli list.\n",
    "\n",
    "    This function does the inverse of `build_max_cut_graph`\n",
    "    \"\"\"\n",
    "    pauli_list = []\n",
    "    for edge in list(graph.edge_list()):\n",
    "        paulis = [\"I\"] * len(graph)\n",
    "        paulis[edge[0]], paulis[edge[1]] = \"Z\", \"Z\"\n",
    "\n",
    "        weight = graph.get_edge_data(edge[0], edge[1])\n",
    "\n",
    "        pauli_list.append((\"\".join(paulis)[::-1], weight))\n",
    "\n",
    "    return pauli_list\n",
    "\n",
    "\n",
    "max_cut_paulis = build_max_cut_paulis(graph)\n",
    "\n",
    "ising_hamiltonian = SparsePauliOp.from_list(max_cut_paulis)\n",
    "print(\"Cost Function Hamiltonian:\", ising_hamiltonian)"
   ]
  },
  {
   "cell_type": "code",
   "execution_count": 15,
   "id": "3960cb8e-9e4d-4a58-b311-0e0c593c2edf",
   "metadata": {},
   "outputs": [],
   "source": [
    "cost_hamiltonian = ising_hamiltonian"
   ]
  },
  {
   "cell_type": "code",
   "execution_count": 19,
   "id": "49457ad6-2077-4389-ba6e-1bb5ff4ee072",
   "metadata": {},
   "outputs": [],
   "source": [
    "num_qubits = n\n",
    "mixer_hamiltonian = SparsePauliOp.from_sparse_list(\n",
    "    [(\"Z\", [i], 1.0) for i in range(num_qubits)],\n",
    "    num_qubits=num_qubits\n",
    ")"
   ]
  },
  {
   "cell_type": "code",
   "execution_count": 21,
   "id": "6e72df2b-cb56-4099-a337-e6a6f7de402c",
   "metadata": {},
   "outputs": [],
   "source": [
    "mixer_hamiltonian = SparsePauliOp.from_sparse_list(\n",
    "    [(\"X\", [i], 1.0) for i in range(num_qubits)] +  # Single-qubit X terms\n",
    "    [(\"XX\", [i, i+1], 1.0) for i in range(num_qubits - 1)],  # Two-qubit XX terms\n",
    "    num_qubits=num_qubits\n",
    ")"
   ]
  },
  {
   "cell_type": "code",
   "execution_count": 23,
   "id": "7437de2f-7e66-4dc9-af64-6fddc3993403",
   "metadata": {},
   "outputs": [
    {
     "data": {
      "text/plain": [
       "SparsePauliOp(['IIIIX', 'IIIXI', 'IIXII', 'IXIII', 'XIIII', 'IIIXX', 'IIXXI', 'IXXII', 'XXIII'],\n",
       "              coeffs=[1.+0.j, 1.+0.j, 1.+0.j, 1.+0.j, 1.+0.j, 1.+0.j, 1.+0.j, 1.+0.j, 1.+0.j])"
      ]
     },
     "execution_count": 23,
     "metadata": {},
     "output_type": "execute_result"
    }
   ],
   "source": [
    "mixer_hamiltonian"
   ]
  },
  {
   "cell_type": "code",
   "execution_count": 25,
   "id": "23407e03-5f63-4a1c-bfd4-684af8a01998",
   "metadata": {},
   "outputs": [],
   "source": [
    "p = 4\n",
    "gamma = ParameterVector('γ', p)\n",
    "beta = ParameterVector('β', p)"
   ]
  },
  {
   "cell_type": "code",
   "execution_count": 27,
   "id": "b8e13c26-84a4-4d71-8182-69c66b391540",
   "metadata": {},
   "outputs": [],
   "source": [
    "gamma  = np.random.uniform(0, np.pi/4, p)\n",
    "beta = np.random.uniform(0, np.pi/4, p)\n",
    "def qaoa_circuit(gamma, beta):\n",
    "    qc = QuantumCircuit(num_qubits)\n",
    "    qc = QuantumCircuit(num_qubits)\n",
    "    qc.h(range(num_qubits))\n",
    "    \n",
    "    for i in range(p):\n",
    "        # Cost Hamiltonian evolution\n",
    "        cost_evolution = PauliEvolutionGate(cost_hamiltonian, time=gamma[i])\n",
    "        qc.append(cost_evolution, range(num_qubits))\n",
    "        \n",
    "        # Mixer Hamiltonian evolution\n",
    "        mixer_evolution = PauliEvolutionGate(mixer_hamiltonian, time=beta[i])\n",
    "        qc.append(mixer_evolution, range(num_qubits))\n",
    "    \n",
    "    # Add a Classical Register with 'num_qubits' bits\n",
    "    cr = ClassicalRegister(num_qubits)\n",
    "    qc.add_register(cr)\n",
    "    #qc.h(range(num_qubits))\n",
    "    # Measure all qubits and store the results in the classical register\n",
    "    qc.measure(range(num_qubits), range(num_qubits))\n",
    "    return qc"
   ]
  },
  {
   "cell_type": "code",
   "execution_count": 29,
   "id": "fad51438-ac64-481f-9cf6-7eb1228619b0",
   "metadata": {},
   "outputs": [
    {
     "name": "stdout",
     "output_type": "stream",
     "text": [
      "      ┌───┐»\n",
      " q_0: ┤ H ├»\n",
      "      ├───┤»\n",
      " q_1: ┤ H ├»\n",
      "      ├───┤»\n",
      " q_2: ┤ H ├»\n",
      "      ├───┤»\n",
      " q_3: ┤ H ├»\n",
      "      ├───┤»\n",
      " q_4: ┤ H ├»\n",
      "      └───┘»\n",
      "c0: 5/═════»\n",
      "           »\n",
      "«      ┌────────────────────────────────────────────────────────────────────┐»\n",
      "« q_0: ┤0                                                                   ├»\n",
      "«      │                                                                    │»\n",
      "« q_1: ┤1                                                                   ├»\n",
      "«      │                                                                    │»\n",
      "« q_2: ┤2 exp(-it (IIIZZ + IIZIZ + ZIIIZ + IIZZI + IZZII + ZZIII))(0.17394) ├»\n",
      "«      │                                                                    │»\n",
      "« q_3: ┤3                                                                   ├»\n",
      "«      │                                                                    │»\n",
      "« q_4: ┤4                                                                   ├»\n",
      "«      └────────────────────────────────────────────────────────────────────┘»\n",
      "«c0: 5/══════════════════════════════════════════════════════════════════════»\n",
      "«                                                                            »\n",
      "«      ┌────────────────────────────────────────────────────────────────────────────────────────────┐»\n",
      "« q_0: ┤0                                                                                           ├»\n",
      "«      │                                                                                            │»\n",
      "« q_1: ┤1                                                                                           ├»\n",
      "«      │                                                                                            │»\n",
      "« q_2: ┤2 exp(-it (IIIIX + IIIXI + IIXII + IXIII + XIIII + IIIXX + IIXXI + IXXII + XXIII))(0.70135) ├»\n",
      "«      │                                                                                            │»\n",
      "« q_3: ┤3                                                                                           ├»\n",
      "«      │                                                                                            │»\n",
      "« q_4: ┤4                                                                                           ├»\n",
      "«      └────────────────────────────────────────────────────────────────────────────────────────────┘»\n",
      "«c0: 5/══════════════════════════════════════════════════════════════════════════════════════════════»\n",
      "«                                                                                                    »\n",
      "«      ┌────────────────────────────────────────────────────────────────────┐»\n",
      "« q_0: ┤0                                                                   ├»\n",
      "«      │                                                                    │»\n",
      "« q_1: ┤1                                                                   ├»\n",
      "«      │                                                                    │»\n",
      "« q_2: ┤2 exp(-it (IIIZZ + IIZIZ + ZIIIZ + IIZZI + IZZII + ZZIII))(0.40509) ├»\n",
      "«      │                                                                    │»\n",
      "« q_3: ┤3                                                                   ├»\n",
      "«      │                                                                    │»\n",
      "« q_4: ┤4                                                                   ├»\n",
      "«      └────────────────────────────────────────────────────────────────────┘»\n",
      "«c0: 5/══════════════════════════════════════════════════════════════════════»\n",
      "«                                                                            »\n",
      "«      ┌────────────────────────────────────────────────────────────────────────────────────────────┐»\n",
      "« q_0: ┤0                                                                                           ├»\n",
      "«      │                                                                                            │»\n",
      "« q_1: ┤1                                                                                           ├»\n",
      "«      │                                                                                            │»\n",
      "« q_2: ┤2 exp(-it (IIIIX + IIIXI + IIXII + IXIII + XIIII + IIIXX + IIXXI + IXXII + XXIII))(0.72009) ├»\n",
      "«      │                                                                                            │»\n",
      "« q_3: ┤3                                                                                           ├»\n",
      "«      │                                                                                            │»\n",
      "« q_4: ┤4                                                                                           ├»\n",
      "«      └────────────────────────────────────────────────────────────────────────────────────────────┘»\n",
      "«c0: 5/══════════════════════════════════════════════════════════════════════════════════════════════»\n",
      "«                                                                                                    »\n",
      "«      ┌────────────────────────────────────────────────────────────────────┐»\n",
      "« q_0: ┤0                                                                   ├»\n",
      "«      │                                                                    │»\n",
      "« q_1: ┤1                                                                   ├»\n",
      "«      │                                                                    │»\n",
      "« q_2: ┤2 exp(-it (IIIZZ + IIZIZ + ZIIIZ + IIZZI + IZZII + ZZIII))(0.74974) ├»\n",
      "«      │                                                                    │»\n",
      "« q_3: ┤3                                                                   ├»\n",
      "«      │                                                                    │»\n",
      "« q_4: ┤4                                                                   ├»\n",
      "«      └────────────────────────────────────────────────────────────────────┘»\n",
      "«c0: 5/══════════════════════════════════════════════════════════════════════»\n",
      "«                                                                            »\n",
      "«      ┌────────────────────────────────────────────────────────────────────────────────────────────┐»\n",
      "« q_0: ┤0                                                                                           ├»\n",
      "«      │                                                                                            │»\n",
      "« q_1: ┤1                                                                                           ├»\n",
      "«      │                                                                                            │»\n",
      "« q_2: ┤2 exp(-it (IIIIX + IIIXI + IIXII + IXIII + XIIII + IIIXX + IIXXI + IXXII + XXIII))(0.17394) ├»\n",
      "«      │                                                                                            │»\n",
      "« q_3: ┤3                                                                                           ├»\n",
      "«      │                                                                                            │»\n",
      "« q_4: ┤4                                                                                           ├»\n",
      "«      └────────────────────────────────────────────────────────────────────────────────────────────┘»\n",
      "«c0: 5/══════════════════════════════════════════════════════════════════════════════════════════════»\n",
      "«                                                                                                    »\n",
      "«      ┌────────────────────────────────────────────────────────────────────┐»\n",
      "« q_0: ┤0                                                                   ├»\n",
      "«      │                                                                    │»\n",
      "« q_1: ┤1                                                                   ├»\n",
      "«      │                                                                    │»\n",
      "« q_2: ┤2 exp(-it (IIIZZ + IIZIZ + ZIIIZ + IIZZI + IZZII + ZZIII))(0.74427) ├»\n",
      "«      │                                                                    │»\n",
      "« q_3: ┤3                                                                   ├»\n",
      "«      │                                                                    │»\n",
      "« q_4: ┤4                                                                   ├»\n",
      "«      └────────────────────────────────────────────────────────────────────┘»\n",
      "«c0: 5/══════════════════════════════════════════════════════════════════════»\n",
      "«                                                                            »\n",
      "«      ┌────────────────────────────────────────────────────────────────────────────────────────────┐»\n",
      "« q_0: ┤0                                                                                           ├»\n",
      "«      │                                                                                            │»\n",
      "« q_1: ┤1                                                                                           ├»\n",
      "«      │                                                                                            │»\n",
      "« q_2: ┤2 exp(-it (IIIIX + IIIXI + IIXII + IXIII + XIIII + IIIXX + IIXXI + IXXII + XXIII))(0.60399) ├»\n",
      "«      │                                                                                            │»\n",
      "« q_3: ┤3                                                                                           ├»\n",
      "«      │                                                                                            │»\n",
      "« q_4: ┤4                                                                                           ├»\n",
      "«      └────────────────────────────────────────────────────────────────────────────────────────────┘»\n",
      "«c0: 5/══════════════════════════════════════════════════════════════════════════════════════════════»\n",
      "«                                                                                                    »\n",
      "«      ┌─┐            \n",
      "« q_0: ┤M├────────────\n",
      "«      └╥┘┌─┐         \n",
      "« q_1: ─╫─┤M├─────────\n",
      "«       ║ └╥┘┌─┐      \n",
      "« q_2: ─╫──╫─┤M├──────\n",
      "«       ║  ║ └╥┘┌─┐   \n",
      "« q_3: ─╫──╫──╫─┤M├───\n",
      "«       ║  ║  ║ └╥┘┌─┐\n",
      "« q_4: ─╫──╫──╫──╫─┤M├\n",
      "«       ║  ║  ║  ║ └╥┘\n",
      "«c0: 5/═╩══╩══╩══╩══╩═\n",
      "«       0  1  2  3  4 \n"
     ]
    }
   ],
   "source": [
    "qc = qaoa_circuit(gamma, beta)\n",
    "print(qc)"
   ]
  },
  {
   "cell_type": "code",
   "execution_count": 31,
   "id": "5caf1945-24b5-4f99-81c7-f4e55de8d7f3",
   "metadata": {},
   "outputs": [],
   "source": [
    "def objective_function(params):\n",
    "    backend = AerSimulator() \n",
    "    sampler = BackendSamplerV2(backend=backend)\n",
    "    transpiled_circuit = transpile(qc, backend)\n",
    "    job = sampler.run([transpiled_circuit])\n",
    "    result = job.result()\n",
    "    pub_result = result[0]\n",
    "    data_bin = pub_result.data\n",
    "    bitstring_key = list(data_bin.keys())[0]\n",
    "    bit_array = data_bin[bitstring_key] #c0 for Aersimulator\n",
    "    counts = bit_array.get_counts()\n",
    "    total_shots = sum(counts.values())  # Total number of measurements\n",
    "    probabilities = {bitstring: count / total_shots for bitstring, count in counts.items()}\n",
    "    expectation_value = 0\n",
    "    for pauli, coeff in zip(cost_hamiltonian.paulis, cost_hamiltonian.coeffs):\n",
    "        term_expectation = 0\n",
    "        for bitstring, probability in probabilities.items():\n",
    "            # Determine the eigenvalue of the Pauli term for the given bitstring\n",
    "            eigenvalue = 1\n",
    "            for qubit, pauli_char in enumerate(reversed(pauli.to_label())):\n",
    "                if pauli_char == 'Z' and bitstring[qubit] == '1':\n",
    "                    eigenvalue *= -1\n",
    "                elif pauli_char == 'X' or pauli_char == 'Y':\n",
    "                    raise ValueError(\"Non-Z Pauli operators require a basis change before measurement.\")\n",
    "            term_expectation += eigenvalue * probability\n",
    "        expectation_value += coeff * term_expectation\n",
    "    return np.real(expectation_value)"
   ]
  },
  {
   "cell_type": "code",
   "execution_count": 33,
   "id": "2f6c99fe-75ce-47bd-a589-2dc79422597f",
   "metadata": {},
   "outputs": [
    {
     "data": {
      "image/png": "[encoded data removed]",
      "text/plain": [
       "<Figure size 600x400 with 1 Axes>"
      ]
     },
     "metadata": {},
     "output_type": "display_data"
    },
    {
     "name": "stdout",
     "output_type": "stream",
     "text": [
      "Optimized Parameters: [ 1.77226824 -0.15975965  1.78879849  0.63557198  0.82893951  0.02965849\n",
      "  0.92502206 -0.47781645]\n",
      "Optimization success: True\n"
     ]
    }
   ],
   "source": [
    "initial_params = np.random.uniform(0, np.pi/2, 2 * p)\n",
    "cost_history = []\n",
    "\n",
    "# Store cost function values\n",
    "cost_history = []\n",
    "\n",
    "# Callback function to store cost values (no real-time plotting)\n",
    "def callback(x):\n",
    "    cost = objective_function(x)\n",
    "    cost_history.append(cost)\n",
    "\n",
    "# Run optimization\n",
    "result = minimize(objective_function, initial_params, method='COBYLA',\n",
    "                  options={'maxiter': 1000, 'tol': 1e-10}, callback=callback)\n",
    "\n",
    "# Plot results after optimization finishes\n",
    "plt.figure(figsize=(6, 4))\n",
    "plt.plot((cost_history), marker='o', linestyle='-', color='b')\n",
    "plt.xlabel(\"Iteration\")\n",
    "plt.ylabel(\"Cost Function Value\")\n",
    "plt.title(\"Optimization Progress\")\n",
    "plt.grid()\n",
    "plt.show()\n",
    "\n",
    "# Print final result\n",
    "print(\"Optimized Parameters:\", result.x)\n",
    "optimal_params = result.x\n",
    "print(\"Optimization success:\", result.success)"
   ]
  },
  {
   "cell_type": "code",
   "execution_count": 35,
   "id": "0200e779-063b-4e77-9e98-619bd62fa7c0",
   "metadata": {},
   "outputs": [
    {
     "name": "stdout",
     "output_type": "stream",
     "text": [
      "optimal_state [0, 1, 1, 1, 1] energy -0.224609375\n"
     ]
    }
   ],
   "source": [
    "def optimal_state(params):\n",
    "    backend = AerSimulator(seed_simulator = 42) \n",
    "    sampler = BackendSamplerV2(backend=backend)\n",
    "    transpiled_circuit = transpile(qc, backend)\n",
    "    job = sampler.run([transpiled_circuit])\n",
    "    result = job.result()\n",
    "    pub_result = result[0]\n",
    "    data_bin = pub_result.data\n",
    "    data_bin = pub_result.data\n",
    "    bitstring_key = list(data_bin.keys())[0]\n",
    "    bit_array = data_bin[bitstring_key]\n",
    "    counts = bit_array.get_counts()\n",
    "    ground_state = max(counts, key=counts.get)\n",
    "    ground_state_list = [int(bit) for bit in ground_state]\n",
    "    counts = bit_array.get_counts()\n",
    "    total_shots = sum(counts.values())\n",
    "    probabilities = {bitstring: count / total_shots for bitstring, count in counts.items()}\n",
    "    expectation_value = 0\n",
    "    for pauli, coeff in zip(cost_hamiltonian.paulis, cost_hamiltonian.coeffs):\n",
    "        term_expectation = 0\n",
    "        for bitstring, probability in probabilities.items():\n",
    "            # Determine the eigenvalue of the Pauli term for the given bitstring\n",
    "            eigenvalue = 1\n",
    "            for qubit, pauli_char in enumerate(reversed(pauli.to_label())):\n",
    "                if pauli_char == 'Z' and bitstring[qubit] == '1':\n",
    "                    eigenvalue *= -1\n",
    "                elif pauli_char == 'X' or pauli_char == 'Y':\n",
    "                    raise ValueError(\"Non-Z Pauli operators require a basis change before measurement.\")\n",
    "            term_expectation += eigenvalue * probability\n",
    "        expectation_value += coeff * term_expectation\n",
    "    return ground_state_list, np.real(expectation_value)\n",
    "\n",
    "final_result = optimal_state(optimal_params)\n",
    "print('optimal_state', final_result[0], 'energy', final_result[1])"
   ]
  },
  {
   "cell_type": "code",
   "execution_count": 53,
   "id": "09861944-1beb-4226-ac7e-a6c5d2d12ca4",
   "metadata": {},
   "outputs": [
    {
     "data": {
      "text/plain": [
       "(array([1, 1, 1, 1, 1]), -12.0)"
      ]
     },
     "execution_count": 53,
     "metadata": {},
     "output_type": "execute_result"
    }
   ],
   "source": [
    "x_opt, value"
   ]
  },
  {
   "cell_type": "code",
   "execution_count": 55,
   "id": "d100c38c-71ab-4117-a2bd-59c76ae96502",
   "metadata": {},
   "outputs": [
    {
     "name": "stdout",
     "output_type": "stream",
     "text": [
      "Solutions are different.\n"
     ]
    }
   ],
   "source": [
    "if (x_opt == final_result[0]).all():\n",
    "    print(\"Both solutions are the same and correct.\")\n",
    "else:\n",
    "    print(\"Solutions are different.\")"
   ]
  },
  {
   "cell_type": "code",
   "execution_count": null,
   "id": "91cbd0a4-09b3-4216-bc6b-4d96cc155a31",
   "metadata": {},
   "outputs": [],
   "source": []
  }
 ],
 "metadata": {
  "kernelspec": {
   "display_name": "Python [conda env:base] *",
   "language": "python",
   "name": "conda-base-py"
  },
  "language_info": {
   "codemirror_mode": {
    "name": "ipython",
    "version": 3
   },
   "file_extension": ".py",
   "mimetype": "text/x-python",
   "name": "python",
   "nbconvert_exporter": "python",
   "pygments_lexer": "ipython3",
   "version": "3.12.7"
  }
 },
 "nbformat": 4,
 "nbformat_minor": 5
}
