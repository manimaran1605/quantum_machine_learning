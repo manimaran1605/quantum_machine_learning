{
 "cells": [
  {
   "cell_type": "code",
   "execution_count": 1,
   "id": "c62cb444-d749-4b0e-889c-c69d6ec4ca29",
   "metadata": {},
   "outputs": [
    {
     "name": "stdout",
     "output_type": "stream",
     "text": [
      "AerSimulator('aer_simulator')\n"
     ]
    }
   ],
   "source": [
    "import numpy as np\n",
    "import neal\n",
    "import networkx as nx\n",
    "from qiskit_aer import AerSimulator\n",
    "from qiskit_algorithms import SamplingVQE\n",
    "backend = AerSimulator(shots=1e4)\n",
    "from docplex.mp.model import Model\n",
    "import numpy as np\n",
    "import random\n",
    "import itertools\n",
    "import random\n",
    "import matplotlib.pyplot as plt\n",
    "import networkx as nx\n",
    "from qiskit.circuit.library import EfficientSU2\n",
    "from qiskit.circuit.library import TwoLocal\n",
    "from qiskit import ClassicalRegister\n",
    "from qiskit.quantum_info import SparsePauliOp\n",
    "from qiskit_algorithms import NumPyMinimumEigensolver, NumPyEigensolver\n",
    "from qiskit import transpile\n",
    "from qiskit_ibm_runtime import QiskitRuntimeService\n",
    "from qiskit_ibm_runtime import Session, EstimatorV2 as Estimator\n",
    "from scipy.optimize import minimize\n",
    "from qiskit_ibm_runtime import SamplerV2 as Sampler\n",
    "from qiskit.transpiler.preset_passmanagers import generate_preset_pass_manager\n",
    "import time\n",
    "from qiskit import QuantumCircuit\n",
    "import neal\n",
    "import random\n",
    "import math\n",
    "from qiskit.quantum_info import SparsePauliOp\n",
    "from qiskit_optimization import QuadraticProgram\n",
    "print(backend)"
   ]
  },
  {
   "cell_type": "code",
   "execution_count": 111,
   "id": "31126864-bcea-412c-80b2-69703155d089",
   "metadata": {},
   "outputs": [
    {
     "name": "stdout",
     "output_type": "stream",
     "text": [
      "[[ 0.74864782 -0.10756736 -0.33828559  0.48255005  0.18479238  0.96499021\n",
      "   0.84608014  0.58299601  0.28228911 -0.36719232]\n",
      " [-0.10756736 -0.68571827 -0.7205985   0.22144709  0.28699983 -0.7630373\n",
      "   0.8136219  -0.05468644  0.26892347  0.56748088]\n",
      " [-0.33828559 -0.7205985  -0.77223128 -0.10705789 -0.7588589  -0.64942084\n",
      "  -0.74587115 -0.42116186 -0.02772721 -0.54962748]\n",
      " [ 0.48255005  0.22144709 -0.10705789  0.44545295 -0.55235024  0.05517643\n",
      "  -0.37055002 -0.21236738 -0.6327756  -0.62995622]\n",
      " [ 0.18479238  0.28699983 -0.7588589  -0.55235024  0.26175207 -0.25072012\n",
      "  -0.56257892  0.52439285  0.11283326 -0.90434736]\n",
      " [ 0.96499021 -0.7630373  -0.64942084  0.05517643 -0.25072012 -0.57995783\n",
      "   0.78940475  0.64867038 -0.12276458  0.30035959]\n",
      " [ 0.84608014  0.8136219  -0.74587115 -0.37055002 -0.56257892  0.78940475\n",
      "  -0.2039105   0.27761284 -0.35494387 -0.91244341]\n",
      " [ 0.58299601 -0.05468644 -0.42116186 -0.21236738  0.52439285  0.64867038\n",
      "   0.27761284  0.8696399  -0.51011771  0.15361375]\n",
      " [ 0.28228911  0.26892347 -0.02772721 -0.6327756   0.11283326 -0.12276458\n",
      "  -0.35494387 -0.51011771  0.03027526 -0.00797618]\n",
      " [-0.36719232  0.56748088 -0.54962748 -0.62995622 -0.90434736  0.30035959\n",
      "  -0.91244341  0.15361375 -0.00797618 -0.06021926]]\n"
     ]
    }
   ],
   "source": [
    "n = 10\n",
    "def generate_random_qubo_matrix(n, low=-1, high=1):\n",
    "    Q = np.random.uniform(low, high, size=(n, n))\n",
    "    Q = np.triu(Q) + np.triu(Q, 1).T\n",
    "    return Q\n",
    "\n",
    "qubo_matrix = generate_random_qubo_matrix(n)\n",
    "print(qubo_matrix)"
   ]
  },
  {
   "cell_type": "code",
   "execution_count": 113,
   "id": "b38d6d43-1acb-46b5-a4de-9f91470d0c08",
   "metadata": {},
   "outputs": [
    {
     "name": "stdout",
     "output_type": "stream",
     "text": [
      "Best Solution: [0, 0, 1, 1, 1, 1, 1, 0, 1, 1]\n",
      "Best Energy: -14.64323051385512\n"
     ]
    }
   ],
   "source": [
    "# Initialize the simulated annealer\n",
    "sampler = neal.SimulatedAnnealingSampler()\n",
    "\n",
    "# Run the solver\n",
    "sampleset = sampler.sample_qubo(qubo_matrix, num_reads=1000)\n",
    "\n",
    "# Print the best solution found\n",
    "best_solution = sampleset.first.sample\n",
    "best_energy = sampleset.first.energy\n",
    "simulated_annealing_bit_string = []\n",
    "for i in range(len(best_solution)):\n",
    "    simulated_annealing_bit_string.append(best_solution[i])\n",
    "\n",
    "print(\"Best Solution:\", simulated_annealing_bit_string)\n",
    "print(\"Best Energy:\", best_energy)"
   ]
  },
  {
   "cell_type": "code",
   "execution_count": 115,
   "id": "6c9a9982-8841-4955-b833-a4a6d10bbe84",
   "metadata": {},
   "outputs": [],
   "source": [
    "def matrix_to_qubo_dict(matrix):\n",
    "    Q = {}\n",
    "    n = matrix.shape[0]\n",
    "    for i in range(n):\n",
    "        for j in range(i, n):  # Only upper triangle (QUBO is symmetric)\n",
    "            Q[(i, j)] = matrix[i, j]\n",
    "    return Q\n",
    "\n",
    "Q = matrix_to_qubo_dict(qubo_matrix)\n",
    "\n",
    "def qubo_dict_to_matrix(Q):\n",
    "    # Get the size of the matrix\n",
    "    n = max(max(i, j) for i, j in Q.keys()) + 1\n",
    "    matrix = np.zeros((n, n))\n",
    "\n",
    "    for (i, j), w in Q.items():\n",
    "        matrix[i, j] = w\n",
    "        if i != j:\n",
    "            matrix[j, i] = w  # Ensure symmetry\n",
    "\n",
    "    return matrix"
   ]
  },
  {
   "cell_type": "code",
   "execution_count": 117,
   "id": "e50feb3a-da6e-4427-b932-73e565dc160d",
   "metadata": {},
   "outputs": [],
   "source": [
    "def qubo_to_graph(Q):\n",
    "    \"\"\" Converts a QUBO dictionary into a NetworkX graph. \"\"\"\n",
    "    G = nx.Graph()\n",
    "    for (i, j), w in Q.items():\n",
    "        if i == j:\n",
    "            G.add_node(i, weight=w)\n",
    "        else:\n",
    "            G.add_edge(i, j, weight=w)\n",
    "    return G"
   ]
  },
  {
   "cell_type": "code",
   "execution_count": 119,
   "id": "5aa0f046-0a68-44ec-beda-2210c2deee0b",
   "metadata": {},
   "outputs": [],
   "source": [
    "def partition_qubo(Q, num_parts):\n",
    "    \"\"\" Partitions a QUBO graph into smaller sub-QUBOs. \"\"\"\n",
    "    G = qubo_to_graph(Q)\n",
    "    partition = nx.community.kernighan_lin_bisection(G)  # Bisection partitioning\n",
    "    sub_QUBOs = []\n",
    "\n",
    "    for part in partition:\n",
    "        sub_Q = {(i, j): Q[i, j] for i in part for j in part if (i, j) in Q}\n",
    "        sub_QUBOs.append(sub_Q)\n",
    "    \n",
    "    return sub_QUBOs, partition"
   ]
  },
  {
   "cell_type": "code",
   "execution_count": 121,
   "id": "21731bf6-d59a-4cc7-baa7-6068013f8a8b",
   "metadata": {},
   "outputs": [],
   "source": [
    "def qubo_to_hamiltonian(Q):\n",
    "    n = Q.shape[0]\n",
    "    paulis = []\n",
    "    coeffs = []\n",
    "    offset = 0.0\n",
    "\n",
    "    for i in range(n):\n",
    "        offset += Q[i, i] / 4\n",
    "        coeff = -Q[i, i] / 2\n",
    "        if coeff != 0.0:\n",
    "            z_str = ['I'] * n\n",
    "            z_str[i] = 'Z'\n",
    "            paulis.append(\"\".join(z_str))\n",
    "            coeffs.append(coeff)\n",
    "\n",
    "        for j in range(i+1, n):\n",
    "            if Q[i, j] != 0.0:\n",
    "                offset += Q[i, j] / 4\n",
    "                coeff_zz = Q[i, j] / 4\n",
    "                coeff_z1 = -Q[i, j] / 4\n",
    "                coeff_z2 = -Q[i, j] / 4\n",
    "\n",
    "                z_str = ['I'] * n\n",
    "                z_str[i] = 'Z'\n",
    "                z_str[j] = 'Z'\n",
    "                paulis.append(\"\".join(z_str))\n",
    "                coeffs.append(coeff_zz)\n",
    "\n",
    "                z_str1 = ['I'] * n\n",
    "                z_str1[i] = 'Z'\n",
    "                paulis.append(\"\".join(z_str1))\n",
    "                coeffs.append(coeff_z1)\n",
    "\n",
    "                z_str2 = ['I'] * n\n",
    "                z_str2[j] = 'Z'\n",
    "                paulis.append(\"\".join(z_str2))\n",
    "                coeffs.append(coeff_z2)\n",
    "\n",
    "    # Create the SparsePauliOp\n",
    "    hamiltonian = SparsePauliOp.from_list(list(zip(paulis, coeffs)))\n",
    "\n",
    "    return hamiltonian, offset"
   ]
  },
  {
   "cell_type": "code",
   "execution_count": 123,
   "id": "b213bfe5-9a4e-496b-8a09-65dda284e106",
   "metadata": {},
   "outputs": [],
   "source": [
    "def cost_func(params, ansatz, hamiltonian, estimator):\n",
    "    pub = (ansatz, [hamiltonian], [params])\n",
    "    result = estimator.run(pubs=[pub]).result()\n",
    "    energy = result[0].data.evs[0]\n",
    "#    cost_history_dict[\"iters\"] += 1\n",
    "#    cost_history_dict[\"prev_vector\"] = params\n",
    "#    cost_history_dict[\"cost_history\"].append(energy)\n",
    "    return energy\n",
    "def solve_qubo(Q):\n",
    "    qubo_matrix = qubo_dict_to_matrix(Q)\n",
    "    hamiltonian = qubo_to_hamiltonian(qubo_matrix)[0]\n",
    "    ansatz = EfficientSU2(hamiltonian.num_qubits)\n",
    "    ansatz.measure_all()\n",
    "    num_params = ansatz.num_parameters\n",
    "    target = backend.target\n",
    "    pm = generate_preset_pass_manager(target=target, optimization_level=3)\n",
    "    ansatz_isa = pm.run(ansatz)\n",
    "    hamiltonian_isa = hamiltonian.apply_layout(layout=ansatz_isa.layout)\n",
    "    cost_history_dict = {\n",
    "        \"prev_vector\": None,\n",
    "        \"iters\": 0,\n",
    "        \"cost_history\": [],\n",
    "    }\n",
    "    x0 = 2 * np.pi * np.random.random(num_params)\n",
    "    with Session(backend=backend) as session:\n",
    "        estimator = Estimator(mode=session)\n",
    "        estimator.options.default_shots = 10000\n",
    "    \n",
    "        res = minimize(\n",
    "            cost_func,\n",
    "            x0,\n",
    "            args=(ansatz_isa, hamiltonian_isa, estimator),\n",
    "            method=\"cobyla\",\n",
    "             options={ # Optional: prints optimization progress\n",
    "                 \"rhobeg\": 2}\n",
    "        )\n",
    "    optimal_params = res.x\n",
    "    optimized_circuit = ansatz_isa.assign_parameters(res.x)\n",
    "    sampler = AerSimulator()\n",
    "    job = sampler.run([optimized_circuit])\n",
    "    result = job.result()\n",
    "    counts_bin = result.get_counts()\n",
    "    most_probable = max(counts_bin, key=counts_bin.get)\n",
    "    state_as_list = [int(bit) for bit in most_probable]\n",
    "#    state_as_list.reverse()\n",
    "    print(state_as_list)\n",
    "    return state_as_list, 0"
   ]
  },
  {
   "cell_type": "code",
   "execution_count": 125,
   "id": "afa0d255-c29d-4092-92c5-5c63b37ef382",
   "metadata": {},
   "outputs": [],
   "source": [
    "def refine_solution(Q, initial_solution):\n",
    "    \"\"\" Refining the combined solution by solving a reduced full QUBO. \"\"\"\n",
    "    sampler = neal.SimulatedAnnealingSampler()\n",
    "    \n",
    "    # Convert the initial solution into a partial assignment\n",
    "    fixed_vars = {i: v for i, v in initial_solution.items()}\n",
    "\n",
    "    # Solve the full QUBO again with this partial assignment\n",
    "    sampleset = sampler.sample_qubo(Q, num_reads=100)\n",
    "\n",
    "    return sampleset.first.sample, sampleset.first.energy"
   ]
  },
  {
   "cell_type": "code",
   "execution_count": 127,
   "id": "b263f426-03f3-4edb-9f8d-61c6776b8e4f",
   "metadata": {},
   "outputs": [
    {
     "name": "stdout",
     "output_type": "stream",
     "text": [
      "{(1, 1): -0.6857182681518326, (1, 2): -0.7205985032457614, (1, 3): 0.2214470865429885, (1, 8): 0.26892346519584676, (1, 9): 0.5674808819529573, (2, 2): -0.772231278501208, (2, 3): -0.10705788585169507, (2, 8): -0.027727214050056626, (2, 9): -0.5496274801672907, (3, 3): 0.44545294990857354, (3, 8): -0.6327755976408449, (3, 9): -0.6299562200005564, (8, 8): 0.030275260863112496, (8, 9): -0.007976182519481734, (9, 9): -0.060219256526671705}\n"
     ]
    }
   ],
   "source": [
    "sub_QUBOs, partitions = partition_qubo(Q, num_parts=5) \n",
    "print(sub_QUBOs[0])"
   ]
  },
  {
   "cell_type": "code",
   "execution_count": null,
   "id": "ed3d6e65-e09c-41bd-a90d-d383721432f5",
   "metadata": {},
   "outputs": [],
   "source": [
    "sub_solutions = [solve_qubo(sub_Q) for sub_Q in sub_QUBOs]\n",
    "\n",
    "merged_solution = {}\n",
    "for part_bits, part_vars in zip(sub_solutions, partitions):\n",
    "    for var, bit in zip(part_vars, part_bits):\n",
    "        merged_solution[var] = bit\n",
    "\n",
    "final_solution, final_energy = refine_solution(Q, merged_solution)\n",
    "\n",
    "final_bit_string = [final_solution[i] for i in sorted(final_solution)]\n",
    "\n",
    "print(\"Refined Final Solution:\", final_bit_string)\n",
    "print(\"Refined Final Energy:\", final_energy)"
   ]
  },
  {
   "cell_type": "code",
   "execution_count": null,
   "id": "748bc09e-9023-4405-acb8-0bb1f0c558a4",
   "metadata": {},
   "outputs": [],
   "source": [
    "if final_solution == best_solution:\n",
    "    print(\"Both solutions are the same and correct.\")\n",
    "else:\n",
    "    print(\"Both solutions are different and incorrect.\")"
   ]
  },
  {
   "cell_type": "code",
   "execution_count": null,
   "id": "1097f581-944e-4008-9529-562ee988542a",
   "metadata": {},
   "outputs": [],
   "source": []
  }
 ],
 "metadata": {
  "kernelspec": {
   "display_name": "Python [conda env:base] *",
   "language": "python",
   "name": "conda-base-py"
  },
  "language_info": {
   "codemirror_mode": {
    "name": "ipython",
    "version": 3
   },
   "file_extension": ".py",
   "mimetype": "text/x-python",
   "name": "python",
   "nbconvert_exporter": "python",
   "pygments_lexer": "ipython3",
   "version": "3.12.7"
  }
 },
 "nbformat": 4,
 "nbformat_minor": 5
}
